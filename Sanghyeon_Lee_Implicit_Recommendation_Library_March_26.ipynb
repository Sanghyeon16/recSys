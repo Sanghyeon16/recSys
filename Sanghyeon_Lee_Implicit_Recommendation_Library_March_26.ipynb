{
 "cells": [
  {
   "cell_type": "markdown",
   "metadata": {},
   "source": [
    "Spotlight on Implicit Library\n",
    "======\n",
    "by Sanghyeon Lee\n",
    "\n",
    "In my spotlight, I'll implement three recommendation algorithms that Implicit library covers and test their result. Also, I'll check how much it is faster than simple implementation of the paper algorithms.\n",
    "\n",
    "Implicit Feedback Datasets\n",
    "------\n",
    "Implicit feedback Dataset is a dataset recorded users' interest log without distinguishing how much the user prefers the item. On the other hand, Explicit Dataset is a dataset which is distinguished the clear preference of items by users.\n",
    "\n",
    "Implicit Library\n",
    "-----\n",
    "Implicit Library [1] can present fast Python implementations of popular recommendation algorithms for implicit feedback datasets. \n",
    "\n",
    "Recommendation algorithms for implicit feedback datasets\n",
    "-----\n",
    "1. Alternating Least Squares(ALS) in the papers Collaborative Filtering for Implicit Feedback Datasets [2] and Applications of the Conjugate Gradient Method for Implicit Feedback Collaborative Filtering [3].\n",
    "2. Bayesian Personailzed Ranking(BPR) in the paper BPR: Bayesian Personalized Ranking from Implicit Feedback [4].\n",
    "3. Logistic Matrix Factorization(LMF) in the paper Logistic matrix factorization for implicit feedback data [5].\n",
    "\n",
    "\n",
    "Index\n",
    "-----\n",
    "1. ALS implementation on simple rating matrix\n",
    "2. ALS implementation on simple rating matrix using Implicit Library\n",
    "3. Test based on MovieLens dataset using Implicit Library\n",
    "    1. Alternating Least Squares model test\n",
    "    2. Bayesian Personailzed Ranking model test\n",
    "    3. Logistic Matrix Factorization test\n",
    "\n",
    "\n",
    "Installation\n",
    "-----\n",
    "``pip install implicit``\n",
    "\n",
    "\n",
    "\n"
   ]
  },
  {
   "cell_type": "markdown",
   "metadata": {},
   "source": [
    "1 . Alternating Least Squares implementation on simple rating matrix\n",
    "======="
   ]
  },
  {
   "cell_type": "code",
   "execution_count": 1,
   "metadata": {},
   "outputs": [],
   "source": [
    "import numpy as np\n",
    "\n",
    "confidence = 40\n",
    "dimLatentFactor = 200\n",
    "regularization = 40\n",
    "iteration = 15\n",
    "\n",
    "\n",
    "R = np.array([[0, 0, 0, 0, 4, 0, 0, 0, 0, 2, 0],\n",
    "              [2, 0, 0, 3, 0, 0, 0, 0, 0, 0, 1],\n",
    "              [0, 1, 0, 0, 0, 0, 0, 1, 0, 0, 0],\n",
    "              [0, 3, 4, 0, 3, 0, 0, 2, 0, 0, 4],\n",
    "              [0, 5, 0, 0, 0, 0, 0, 0, 0, 0, 2],\n",
    "              [3, 0, 0, 0, 0, 0, 5, 0, 0, 5, 0],\n",
    "              [0, 0, 4, 0, 0, 0, 0, 2, 0, 0, 0],\n",
    "              [0, 0, 0, 3, 0, 4, 0, 0, 0, 0, 4],\n",
    "              [2, 0, 0, 0, 0, 0, 5, 0, 0, 5, 0],\n",
    "              [0, 0, 0, 3, 0, 0, 2, 0, 0, 0, 0]])\n",
    "\n",
    "nu = R.shape[0]\n",
    "ni = R.shape[1]\n",
    "\n",
    "# initialize Latent Factor Matrix X and Y with very small values\n",
    "X = np.random.rand(nu, dimLatentFactor) * 0.01\n",
    "Y = np.random.rand(ni, dimLatentFactor) * 0.01\n",
    "\n",
    "# initialize Binary Rating Matriox P\n",
    "# Convert original rating matrix R into P\n",
    "P = np.copy(R)\n",
    "P[P > 0] = 1\n",
    "\n",
    "# initialize Confidence Matrix C\n",
    "C = 1 + confidence * R"
   ]
  },
  {
   "cell_type": "markdown",
   "metadata": {},
   "source": [
    "1.1. Loss Function\n",
    "-----\n",
    "$$\n",
    "\\min_{{x}_{*}{y}_{*}}{\\sum {({p}_{ui}-{{x}_{u}}^{T}{{y}_{i}})}^{2}+{\\lambda }_{2}(\\sum_u {\\parallel{x}_{u}\\parallel}^{2}+\\sum_i {\\parallel{y}_{i}\\parallel}^{2})}\n",
    "$$\n",
    "\n",
    "predict error : (pui - xTyi)^2  (binary rating prediction error)\n",
    "\n",
    "confidence error: cui(pui - xTyi) ^ 2 (predict error with confidence level)\n",
    "\n",
    "regularization: lambda(sumX +sumY)\n",
    "\n",
    "total loss: confidence error + regularization\n"
   ]
  },
  {
   "cell_type": "code",
   "execution_count": 2,
   "metadata": {},
   "outputs": [],
   "source": [
    "def lossFunction(C, P, xTy, X, Y, regularization):\n",
    "    predictError = np.square(P - xTy)\n",
    "    confidenceError = np.sum(C * predict_error)\n",
    "    regularizations = regularization * (np.sum(np.square(X)) + np.sum(np.square(Y)))\n",
    "    totalLoss = confidence_error + regularizations\n",
    "    return np.sum(predictError), confidenceError, regularizations, totalLoss"
   ]
  },
  {
   "cell_type": "markdown",
   "metadata": {},
   "source": [
    "1.2. Optimization Function\n",
    "------\n",
    "Latent Factor Optimizers\n",
    "\n",
    "X[u] = (yTCuy + lambda*I)^-1yTCuy\n",
    "\n",
    "Y[i] = (xTCix + lambda*I)^-1xTCix"
   ]
  },
  {
   "cell_type": "code",
   "execution_count": 3,
   "metadata": {},
   "outputs": [],
   "source": [
    "def optimizeUser(X, Y, C, P, nu, dimLatentFactor, regularization):\n",
    "    yT = np.transpose(Y)\n",
    "    for u in range(nu):\n",
    "        Cu = np.diag(C[u])\n",
    "        yT_Cu_y = np.matmul(np.matmul(yT, Cu), Y)\n",
    "        lI = np.dot(regularization, np.identity(dimLatentFactor))\n",
    "        yT_Cu_pu = np.matmul(np.matmul(yT, Cu), P[u])\n",
    "        X[u] = np.linalg.solve(yT_Cu_y + lI, yT_Cu_pu)\n",
    "\n",
    "def optimizeItem(X, Y, C, P, ni, dimLatentFactor, regularization):\n",
    "    xT = np.transpose(X)\n",
    "    for i in range(ni):\n",
    "        Ci = np.diag(C[:, i])\n",
    "        xT_Ci_x = np.matmul(np.matmul(xT, Ci), X)\n",
    "        lI = np.dot(regularization, np.identity(dimLatentFactor))\n",
    "        xT_Ci_pi = np.matmul(np.matmul(xT, Ci), P[:, i])\n",
    "        Y[i] = np.linalg.solve(xT_Ci_x + lI, xT_Ci_pi)"
   ]
  },
  {
   "cell_type": "markdown",
   "metadata": {},
   "source": [
    "1.3. Model Training\n",
    "-----"
   ]
  },
  {
   "cell_type": "code",
   "execution_count": 4,
   "metadata": {},
   "outputs": [
    {
     "name": "stdout",
     "output_type": "stream",
     "text": [
      "Item recommendation for each users\n",
      "For user  0 , item 9 is recommended with  0.8189000020922086  of score\n",
      "For user  1 , item 3 is recommended with  0.8653270615814131  of score\n",
      "For user  2 , item 1 is recommended with  0.6323422073162843  of score\n",
      "For user  3 , item 1 is recommended with  0.9690189464115635  of score\n",
      "For user  4 , item 1 is recommended with  0.8557531274158778  of score\n",
      "For user  5 , item 6 is recommended with  0.9316228652695778  of score\n",
      "For user  6 , item 1 is recommended with  0.8450908789112005  of score\n",
      "For user  7 , item 3 is recommended with  0.9287112769416471  of score\n",
      "For user  8 , item 6 is recommended with  0.9223089587055476  of score\n",
      "For user  9 , item 3 is recommended with  0.8113946177451477  of score\n",
      "CPU times: user 697 ms, sys: 0 ns, total: 697 ms\n",
      "Wall time: 138 ms\n"
     ]
    }
   ],
   "source": [
    "%%time\n",
    "\n",
    "for i in range(iteration):\n",
    "    if i!=0:   \n",
    "        optimizeUser(X, Y, C, P, nu, dimLatentFactor, regularization)\n",
    "        optimizeItem(X, Y, C, P, ni, dimLatentFactor, regularization)\n",
    "\n",
    "predict = np.matmul(X, np.transpose(Y))\n",
    "print('Item recommendation for each users')\n",
    "for i in range(len(predict)):\n",
    "    indx = np.argmax(predict[i])\n",
    "    print('For user ',i,', item',indx, 'is recommended with ',predict[i][indx],' of score')"
   ]
  },
  {
   "cell_type": "code",
   "execution_count": 5,
   "metadata": {},
   "outputs": [
    {
     "name": "stdout",
     "output_type": "stream",
     "text": [
      "User/Item Matrix with predicted recommendations\n",
      "[[0.73001581 0.63084186 0.5852843  0.75621235 0.81081852 0.56075793\n",
      "  0.74837494 0.55336634 0.         0.8189     0.76564602]\n",
      " [0.79462611 0.51352688 0.40615924 0.86532706 0.68816839 0.6494663\n",
      "  0.82500854 0.38966112 0.         0.82531365 0.74732484]\n",
      " [0.2146761  0.63234221 0.60640689 0.29700636 0.504976   0.34399379\n",
      "  0.17993764 0.58344294 0.         0.26203917 0.55863135]\n",
      " [0.52603874 0.96901895 0.91939471 0.63353651 0.88769542 0.6143943\n",
      "  0.49286105 0.88125052 0.         0.6123354  0.93729686]\n",
      " [0.42787612 0.85575313 0.78765904 0.55589193 0.7247942  0.57151699\n",
      "  0.39269657 0.75993603 0.         0.47744857 0.83058351]\n",
      " [0.87670699 0.35551365 0.27254749 0.88587351 0.67634803 0.58069699\n",
      "  0.93162287 0.25463194 0.         0.92783773 0.64661234]\n",
      " [0.2544088  0.84509088 0.82944438 0.34782154 0.68135464 0.41529393\n",
      "  0.20610399 0.79563596 0.         0.33146933 0.72123916]\n",
      " [0.78231665 0.73163666 0.58524231 0.92871128 0.76244247 0.78960521\n",
      "  0.78908914 0.56924447 0.         0.79156334 0.92817293]\n",
      " [0.86772833 0.35048185 0.26964642 0.87515867 0.67039845 0.57204119\n",
      "  0.92230896 0.25169918 0.         0.91941619 0.63809662]\n",
      " [0.76588135 0.3572903  0.2573502  0.81139462 0.58068395 0.57134286\n",
      "  0.80750455 0.2456986  0.         0.78862055 0.61776861]]\n"
     ]
    }
   ],
   "source": [
    "print('User/Item Matrix with predicted recommendations')\n",
    "print(predict)"
   ]
  },
  {
   "cell_type": "markdown",
   "metadata": {},
   "source": [
    "2 . Alternating Least Squares implementation on simple rating matrix using Implilcit Library\n",
    "======="
   ]
  },
  {
   "cell_type": "code",
   "execution_count": 6,
   "metadata": {},
   "outputs": [],
   "source": [
    "#pip install implicit"
   ]
  },
  {
   "cell_type": "code",
   "execution_count": 7,
   "metadata": {},
   "outputs": [
    {
     "name": "stdout",
     "output_type": "stream",
     "text": [
      "CPU times: user 584 ms, sys: 913 ms, total: 1.5 s\n",
      "Wall time: 215 ms\n"
     ]
    }
   ],
   "source": [
    "%%time\n",
    "import implicit\n",
    "import numpy as np\n",
    "import pandas as pd\n",
    "from scipy.sparse import csr_matrix, random\n",
    "\n",
    "#best parameter described in \" Y. Hu et al, Collaborative Filtering for Implicit Feedback Datasets\"\n",
    "confidence = 40\n",
    "dimLatentFactor = 200\n",
    "regularization = 40\n",
    "iteration = 15\n",
    "\n",
    "# # # sample rating matrix\n",
    "raw =  [[0, 0, 0, 0, 4, 0, 0, 0, 0, 2, 0],\n",
    "        [2, 0, 0, 3, 0, 0, 0, 0, 0, 0, 1],\n",
    "        [0, 1, 0, 0, 0, 0, 0, 1, 0, 0, 0],\n",
    "        [0, 3, 4, 0, 3, 0, 0, 2, 0, 0, 4],\n",
    "        [0, 5, 0, 0, 0, 0, 0, 0, 0, 0, 2],\n",
    "        [3, 0, 0, 0, 0, 0, 5, 0, 0, 5, 0],\n",
    "        [0, 0, 4, 0, 0, 0, 0, 2, 0, 0, 0],\n",
    "        [0, 0, 0, 3, 0, 4, 0, 0, 0, 0, 4],\n",
    "        [2, 0, 0, 0, 0, 0, 5, 0, 0, 5, 0],\n",
    "        [0, 0, 0, 3, 0, 0, 2, 0, 0, 0, 0]]\n",
    "\n",
    "#number of users\n",
    "nu = len(raw)\n",
    "\n",
    "counts = csr_matrix(raw, dtype=np.float64)\n",
    "\n",
    "user_items = counts * confidence\n",
    "item_users = user_items.T"
   ]
  },
  {
   "cell_type": "markdown",
   "metadata": {},
   "source": [
    "2.1. Model select from Implicit Library\n",
    "------"
   ]
  },
  {
   "cell_type": "code",
   "execution_count": 8,
   "metadata": {},
   "outputs": [
    {
     "name": "stderr",
     "output_type": "stream",
     "text": [
      "WARNING:root:Intel MKL BLAS detected. Its highly recommend to set the environment variable 'export MKL_NUM_THREADS=1' to disable its internal multithreading\n"
     ]
    },
    {
     "data": {
      "text/plain": [
       "'\\n# initialize a model with BPR algorithm\\nmodel = implicit.bpr.BayesianPersonalizedRanking(factors=dimLatentFactor,\\n                                        regularization=regularization,\\n                                        iterations=iteration)\\n                                        \\n# initialize a model with Logistic Matrix Factorization algorithm                                        \\nmodel = implicit.lmf.LogisticMatrixFactorization(factors=dimLatentFactor,\\n                                        regularization=regularization,\\n                                        iterations=iteration)\\n                                                                       \\n'"
      ]
     },
     "execution_count": 8,
     "metadata": {},
     "output_type": "execute_result"
    }
   ],
   "source": [
    "# initialize a model with ALS algorithm\n",
    "model = implicit.als.AlternatingLeastSquares(factors=dimLatentFactor,\n",
    "                                        regularization=regularization,\n",
    "                                        use_native=False,\n",
    "                                        use_cg=False,\n",
    "                                        iterations=iteration)\n",
    "\n",
    "'''\n",
    "# initialize a model with BPR algorithm\n",
    "model = implicit.bpr.BayesianPersonalizedRanking(factors=dimLatentFactor,\n",
    "                                        regularization=regularization,\n",
    "                                        iterations=iteration)\n",
    "                                        \n",
    "# initialize a model with Logistic Matrix Factorization algorithm                                        \n",
    "model = implicit.lmf.LogisticMatrixFactorization(factors=dimLatentFactor,\n",
    "                                        regularization=regularization,\n",
    "                                        iterations=iteration)\n",
    "                                                                       \n",
    "'''"
   ]
  },
  {
   "cell_type": "markdown",
   "metadata": {},
   "source": [
    "2.2. Model training\n",
    "-------"
   ]
  },
  {
   "cell_type": "code",
   "execution_count": 9,
   "metadata": {},
   "outputs": [
    {
     "data": {
      "application/vnd.jupyter.widget-view+json": {
       "model_id": "be81f57d231a49d2b5a2c058ca26a118",
       "version_major": 2,
       "version_minor": 0
      },
      "text/plain": [
       "HBox(children=(IntProgress(value=0, max=15), HTML(value='')))"
      ]
     },
     "metadata": {},
     "output_type": "display_data"
    },
    {
     "name": "stdout",
     "output_type": "stream",
     "text": [
      "\n",
      "Item recommendation for each users\n",
      "For user  0 , item 9 is recommended with  0.81682473  of score\n",
      "For user  1 , item 3 is recommended with  0.86407113  of score\n",
      "For user  2 , item 1 is recommended with  0.6257595  of score\n",
      "For user  3 , item 1 is recommended with  0.96877205  of score\n",
      "For user  4 , item 1 is recommended with  0.85487294  of score\n",
      "For user  5 , item 6 is recommended with  0.9312121  of score\n",
      "For user  6 , item 1 is recommended with  0.8436243  of score\n",
      "For user  7 , item 3 is recommended with  0.9280933  of score\n",
      "For user  8 , item 6 is recommended with  0.92179334  of score\n",
      "For user  9 , item 3 is recommended with  0.80980325  of score\n",
      "CPU times: user 960 ms, sys: 14.5 ms, total: 975 ms\n",
      "Wall time: 188 ms\n"
     ]
    }
   ],
   "source": [
    "%%time\n",
    "# train the model on a sparse matrix of item/user/confidence weights\n",
    "np.random.seed(2020)\n",
    "model.fit(item_users)\n",
    "\n",
    "# recommend items for users\n",
    "recs = []\n",
    "print('Item recommendation for each users')\n",
    "for i in range(nu):\n",
    "    rec = model.recommend(i, item_users, N=1)\n",
    "    item, score = rec[0]\n",
    "    print('For user ',i,', item',item, 'is recommended with ',score,' of score')"
   ]
  },
  {
   "cell_type": "code",
   "execution_count": 10,
   "metadata": {},
   "outputs": [
    {
     "name": "stdout",
     "output_type": "stream",
     "text": [
      "User/Item Matrix with predicted recommendations\n",
      "[[0.7274743  0.6258645  0.5780643  0.7580672  0.8096755  0.5659705\n",
      "  0.7455008  0.5458418  0.         0.81682473 0.76590437]\n",
      " [0.7925495  0.50359607 0.3961622  0.8640711  0.6862477  0.6482832\n",
      "  0.82320595 0.37948275 0.         0.8253248  0.7419009 ]\n",
      " [0.20252983 0.62575954 0.600812   0.28676173 0.49821347 0.33905017\n",
      "  0.16691616 0.5766836  0.         0.24980061 0.55165   ]\n",
      " [0.51324373 0.968772   0.919315   0.62567884 0.8866189  0.61491966\n",
      "  0.4783373  0.8793268  0.         0.6004365  0.9369913 ]\n",
      " [0.4165172  0.8548732  0.78825164 0.54732835 0.7246945  0.56920743\n",
      "  0.37993887 0.7586232  0.         0.46772486 0.82880586]\n",
      " [0.8755797  0.34092456 0.25614685 0.8862569  0.6696711  0.58071303\n",
      "  0.9312121  0.23906814 0.         0.9274596  0.63871104]\n",
      " [0.2391633  0.843624   0.8283986  0.3369742  0.67645466 0.4132946\n",
      "  0.18910562 0.7928772  0.         0.31590137 0.71829796]\n",
      " [0.781733   0.72797704 0.58344996 0.9280933  0.76868844 0.78861237\n",
      "  0.7884268  0.5659977  0.         0.7952362  0.9274664 ]\n",
      " [0.8665098  0.33598807 0.25333104 0.8754709  0.6636588  0.57205343\n",
      "  0.92179316 0.236226   0.         0.91890365 0.63021445]\n",
      " [0.76407504 0.34571952 0.24555846 0.80980337 0.57685274 0.56913346\n",
      "  0.806194   0.23421031 0.         0.7885601  0.6106047 ]]\n"
     ]
    }
   ],
   "source": [
    "#reconstruct user_item_data with prediction\n",
    "rows, cols = model.user_factors, model.item_factors\n",
    "reconstructed = rows.dot(cols.T)\n",
    "print('User/Item Matrix with predicted recommendations')\n",
    "print(reconstructed)"
   ]
  },
  {
   "cell_type": "markdown",
   "metadata": {},
   "source": [
    "2.3. Model Evaluation using Item similarity\n",
    "-------"
   ]
  },
  {
   "cell_type": "code",
   "execution_count": 11,
   "metadata": {},
   "outputs": [
    {
     "name": "stdout",
     "output_type": "stream",
     "text": [
      "Item similarity\n",
      "\n",
      "User 0 is similar with user 0 with 0.911322 of score\n",
      "User 0 is similar with user 6 with 0.908381 of score\n",
      "User 0 is similar with user 9 with 0.899549 of score\n",
      "User 0 is similar with user 3 with 0.885760 of score\n",
      "\n",
      "\n",
      "User 1 is similar with user 1 with 0.943069 of score\n",
      "User 1 is similar with user 7 with 0.928176 of score\n",
      "User 1 is similar with user 2 with 0.924139 of score\n",
      "User 1 is similar with user 10 with 0.863385 of score\n",
      "\n",
      "\n",
      "User 2 is similar with user 2 with 0.902895 of score\n",
      "User 2 is similar with user 7 with 0.902443 of score\n",
      "User 2 is similar with user 1 with 0.884772 of score\n",
      "User 2 is similar with user 10 with 0.759710 of score\n",
      "\n",
      "\n",
      "User 3 is similar with user 3 with 0.969173 of score\n",
      "User 3 is similar with user 0 with 0.941988 of score\n",
      "User 3 is similar with user 6 with 0.925512 of score\n",
      "User 3 is similar with user 9 with 0.908733 of score\n",
      "\n",
      "\n",
      "User 4 is similar with user 4 with 0.911109 of score\n",
      "User 4 is similar with user 10 with 0.843509 of score\n",
      "User 4 is similar with user 1 with 0.773586 of score\n",
      "User 4 is similar with user 2 with 0.760845 of score\n",
      "\n",
      "\n",
      "User 5 is similar with user 5 with 0.773879 of score\n",
      "User 5 is similar with user 10 with 0.727352 of score\n",
      "User 5 is similar with user 3 with 0.722049 of score\n",
      "User 5 is similar with user 0 with 0.640691 of score\n",
      "\n",
      "\n",
      "User 6 is similar with user 6 with 0.967433 of score\n",
      "User 6 is similar with user 0 with 0.964311 of score\n",
      "User 6 is similar with user 9 with 0.950230 of score\n",
      "User 6 is similar with user 3 with 0.923851 of score\n",
      "\n",
      "\n",
      "User 7 is similar with user 7 with 0.864377 of score\n",
      "User 7 is similar with user 2 with 0.863944 of score\n",
      "User 7 is similar with user 1 with 0.850726 of score\n",
      "User 7 is similar with user 10 with 0.731196 of score\n",
      "\n",
      "\n",
      "User 8 is similar with user 3 with 0.000000 of score\n",
      "User 8 is similar with user 1 with 0.000000 of score\n",
      "User 8 is similar with user 4 with 0.000000 of score\n",
      "User 8 is similar with user 10 with 0.000000 of score\n",
      "\n",
      "\n",
      "User 9 is similar with user 9 with 0.970212 of score\n",
      "User 9 is similar with user 0 with 0.957678 of score\n",
      "User 9 is similar with user 6 with 0.952960 of score\n",
      "User 9 is similar with user 3 with 0.909708 of score\n",
      "\n",
      "\n"
     ]
    }
   ],
   "source": [
    "itemid = 0\n",
    "related = model.similar_items(itemid = 0)\n",
    "\n",
    "print('Item similarity\\n')\n",
    "for i in range(nu):\n",
    "    for other, score in model.similar_items(i, 4):\n",
    "        print(\"User %i is similar with user %i with %f of score\" % (i, other, score))\n",
    "    print('\\n')"
   ]
  },
  {
   "cell_type": "markdown",
   "metadata": {},
   "source": [
    "2.4. Assert explanation makes sense\n",
    "-----\n",
    "Provides explanations for why the item is liked by the user.\n",
    "\n",
    "A list of the top N (itemid, score) contributions for this user/item pair.\n",
    "\n",
    "ex) The reason why user 0 get the recommendation of item 9 is that item 9 got the contributions from user 5, 1, and 8."
   ]
  },
  {
   "cell_type": "code",
   "execution_count": 12,
   "metadata": {},
   "outputs": [
    {
     "name": "stdout",
     "output_type": "stream",
     "text": [
      "User 0 is recommended item 9 , because item 9 got contributions from user [5, 1, 8] with [0.5510207960592248, 0.06673046275865645, 0.0] of scores\n",
      "\n",
      "The total predicted score for this user/item pair is  0.6177512588178813\n"
     ]
    }
   ],
   "source": [
    "userid=0\n",
    "recs = model.recommend(userid, item_users, N=1)\n",
    "top_rec, score = recs[0]\n",
    "\n",
    "score_explained, contributions, W = model.explain(userid, item_users, itemid=top_rec)\n",
    "items = [i for i, _ in contributions]\n",
    "scores = [s for _, s in contributions]\n",
    "print('User 0 is recommended item',top_rec,', because item', top_rec,\n",
    "      'got contributions from user',items,'with',scores,'of scores\\n')\n",
    "\n",
    "print('The total predicted score for this user/item pair is ',score_explained)"
   ]
  },
  {
   "cell_type": "markdown",
   "metadata": {},
   "source": [
    "3 . Test based on MovieLens dataset using Implicit Library\n",
    "=====\n",
    "\n",
    "\n",
    "This code will automatically download a HDF5 version of this\n",
    "dataset when first run. The original dataset can be found here:\n",
    "\n",
    "MovieLens [6] \n",
    "https://grouplens.org/datasets/movielens/.\n",
    "\n",
    "Since this dataset contains explicit 5-star ratings, the ratings are\n",
    "filtered down to positive reviews (4+ stars) to construct an implicit\n",
    "dataset\n",
    "\n",
    "Calulated similar movies will be stored in similar-movies.tsv file.\n",
    "\n",
    "In this case, I saved only the hightest 100 similarities."
   ]
  },
  {
   "cell_type": "code",
   "execution_count": 13,
   "metadata": {},
   "outputs": [],
   "source": [
    "from __future__ import print_function\n",
    "\n",
    "import argparse\n",
    "import codecs\n",
    "import logging\n",
    "import time\n",
    "\n",
    "import numpy as np\n",
    "import tqdm\n",
    "\n",
    "from implicit.als import AlternatingLeastSquares\n",
    "from implicit.bpr import BayesianPersonalizedRanking\n",
    "from implicit.datasets.movielens import get_movielens\n",
    "from implicit.lmf import LogisticMatrixFactorization\n",
    "from implicit.nearest_neighbours import (BM25Recommender, CosineRecommender,\n",
    "                                         TFIDFRecommender, bm25_weight)\n",
    "\n",
    "log = logging.getLogger(\"implicit\")\n",
    "\n",
    "\n",
    "def calculate_similar_movies(output_filename,\n",
    "                             model_name=\"als\", min_rating=4.0,\n",
    "                             variant='20m'):\n",
    "    # read in the input data file\n",
    "    start = time.time()\n",
    "    titles, ratings = get_movielens(variant)\n",
    "\n",
    "    # remove things < min_rating, and convert to implicit dataset\n",
    "    # by considering ratings as a binary preference only\n",
    "    ratings.data[ratings.data < min_rating] = 0\n",
    "    ratings.eliminate_zeros()\n",
    "    ratings.data = np.ones(len(ratings.data))\n",
    "\n",
    "    log.info(\"read data file in %s\", time.time() - start)\n",
    "\n",
    "    # generate a recommender model based off the input params\n",
    "    if model_name == \"als\":\n",
    "        model = AlternatingLeastSquares()\n",
    "\n",
    "        # lets weight these models by bm25weight.\n",
    "        log.debug(\"weighting matrix by bm25_weight\")\n",
    "        ratings = (bm25_weight(ratings, B=0.9) * 5).tocsr()\n",
    "\n",
    "    elif model_name == \"bpr\":\n",
    "        model = BayesianPersonalizedRanking()\n",
    "\n",
    "    elif model_name == \"lmf\":\n",
    "        model = LogisticMatrixFactorization()\n",
    "\n",
    "    elif model_name == \"tfidf\":\n",
    "        model = TFIDFRecommender()\n",
    "\n",
    "    elif model_name == \"cosine\":\n",
    "        model = CosineRecommender()\n",
    "\n",
    "    elif model_name == \"bm25\":\n",
    "        model = BM25Recommender(B=0.2)\n",
    "\n",
    "    else:\n",
    "        raise NotImplementedError(\"TODO: model %s\" % model_name)\n",
    "\n",
    "    # train the model\n",
    "    log.debug(\"training model %s\", model_name)\n",
    "    start = time.time()\n",
    "    model.fit(ratings)\n",
    "    log.debug(\"trained model '%s' in %s\", model_name, time.time() - start)\n",
    "    log.debug(\"calculating top movies\")\n",
    "\n",
    "    user_count = np.ediff1d(ratings.indptr)\n",
    "    to_generate = sorted(np.arange(len(titles)), key=lambda x: -user_count[x])\n",
    "\n",
    "    log.debug(\"calculating similar movies\")\n",
    "    with tqdm.tqdm(total=len(to_generate)) as progress:\n",
    "        with codecs.open(output_filename, \"w\", \"utf8\") as o:\n",
    "            i = 0\n",
    "            for movieid in to_generate:\n",
    "                # if this movie has no ratings, skip over (for instance 'Graffiti Bridge' has\n",
    "                # no ratings > 4 meaning we've filtered out all data for it.\n",
    "                if ratings.indptr[movieid] != ratings.indptr[movieid + 1]:\n",
    "                    title = titles[movieid]\n",
    "                    for other, score in model.similar_items(movieid, 11):\n",
    "                        i += 1\n",
    "                        if i < 100:\n",
    "                            print(\"%s\\t%s\\t%s\" % (title, titles[other], score))\n",
    "                            o.write(\"%s\\t%s\\t%s\\n\" % (title, titles[other], score))\n",
    "                        else:\n",
    "                            break\n",
    "                #progress.update(1)"
   ]
  },
  {
   "cell_type": "markdown",
   "metadata": {},
   "source": [
    "A. Alternating Least Squares model\n",
    "------"
   ]
  },
  {
   "cell_type": "code",
   "execution_count": 14,
   "metadata": {},
   "outputs": [
    {
     "data": {
      "application/vnd.jupyter.widget-view+json": {
       "model_id": "fa44d39ae4094b9bbe5e97ed302185f9",
       "version_major": 2,
       "version_minor": 0
      },
      "text/plain": [
       "HBox(children=(IntProgress(value=0, max=15), HTML(value='')))"
      ]
     },
     "metadata": {},
     "output_type": "display_data"
    },
    {
     "name": "stderr",
     "output_type": "stream",
     "text": [
      "\r",
      "  0%|          | 0/131263 [00:00<?, ?it/s]"
     ]
    },
    {
     "name": "stdout",
     "output_type": "stream",
     "text": [
      "\n",
      "Shawshank Redemption, The (1994)\tShawshank Redemption, The (1994)\t0.41175756\n",
      "Shawshank Redemption, The (1994)\tSilence of the Lambs, The (1991)\t0.40154997\n",
      "Shawshank Redemption, The (1994)\tGood Will Hunting (1997)\t0.4010231\n",
      "Shawshank Redemption, The (1994)\tSchindler's List (1993)\t0.40032485\n",
      "Shawshank Redemption, The (1994)\tForrest Gump (1994)\t0.39940026\n",
      "Shawshank Redemption, The (1994)\tSeven (a.k.a. Se7en) (1995)\t0.39861926\n",
      "Shawshank Redemption, The (1994)\tUsual Suspects, The (1995)\t0.39752764\n",
      "Shawshank Redemption, The (1994)\tPulp Fiction (1994)\t0.3952949\n",
      "Shawshank Redemption, The (1994)\tTruman Show, The (1998)\t0.3947969\n",
      "Shawshank Redemption, The (1994)\tGreen Mile, The (1999)\t0.39478654\n",
      "Shawshank Redemption, The (1994)\tSaving Private Ryan (1998)\t0.39394292\n",
      "Pulp Fiction (1994)\tPulp Fiction (1994)\t0.47626424\n",
      "Pulp Fiction (1994)\tReservoir Dogs (1992)\t0.4687731\n",
      "Pulp Fiction (1994)\tUsual Suspects, The (1995)\t0.46771082\n",
      "Pulp Fiction (1994)\tSeven (a.k.a. Se7en) (1995)\t0.46470976\n",
      "Pulp Fiction (1994)\tLéon: The Professional (a.k.a. The Professional) (Léon) (1994)\t0.4640826\n",
      "Pulp Fiction (1994)\tSilence of the Lambs, The (1991)\t0.46204954\n",
      "Pulp Fiction (1994)\tTrainspotting (1996)\t0.46189314\n",
      "Pulp Fiction (1994)\tBig Lebowski, The (1998)\t0.4604566\n",
      "Pulp Fiction (1994)\tCasino (1995)\t0.46045208\n",
      "Pulp Fiction (1994)\tFull Metal Jacket (1987)\t0.4604471\n",
      "Pulp Fiction (1994)\tGoodfellas (1990)\t0.4589493\n",
      "Silence of the Lambs, The (1991)\tSilence of the Lambs, The (1991)\t0.35946664\n",
      "Silence of the Lambs, The (1991)\tUsual Suspects, The (1995)\t0.35101628\n",
      "Silence of the Lambs, The (1991)\tShawshank Redemption, The (1994)\t0.35055536\n",
      "Silence of the Lambs, The (1991)\tSchindler's List (1993)\t0.35012674\n",
      "Silence of the Lambs, The (1991)\tSeven (a.k.a. Se7en) (1995)\t0.34898728\n",
      "Silence of the Lambs, The (1991)\tPulp Fiction (1994)\t0.3487379\n",
      "Silence of the Lambs, The (1991)\tCasino (1995)\t0.34642008\n",
      "Silence of the Lambs, The (1991)\tCape Fear (1991)\t0.34372768\n",
      "Silence of the Lambs, The (1991)\tGoodfellas (1990)\t0.34201834\n",
      "Silence of the Lambs, The (1991)\tLéon: The Professional (a.k.a. The Professional) (Léon) (1994)\t0.34104472\n",
      "Silence of the Lambs, The (1991)\tDonnie Brasco (1997)\t0.3408056\n",
      "Forrest Gump (1994)\tForrest Gump (1994)\t0.31479087\n",
      "Forrest Gump (1994)\tShawshank Redemption, The (1994)\t0.30534363\n",
      "Forrest Gump (1994)\tBraveheart (1995)\t0.30109623\n",
      "Forrest Gump (1994)\tGreen Mile, The (1999)\t0.30070665\n",
      "Forrest Gump (1994)\tGood Will Hunting (1997)\t0.29722327\n",
      "Forrest Gump (1994)\tTruman Show, The (1998)\t0.29667452\n",
      "Forrest Gump (1994)\tSilence of the Lambs, The (1991)\t0.29651183\n",
      "Forrest Gump (1994)\tSeven (a.k.a. Se7en) (1995)\t0.29616302\n",
      "Forrest Gump (1994)\tSchindler's List (1993)\t0.29591554\n",
      "Forrest Gump (1994)\tScent of a Woman (1992)\t0.2955024\n",
      "Forrest Gump (1994)\tDead Poets Society (1989)\t0.29543564\n",
      "Star Wars: Episode IV - A New Hope (1977)\tStar Wars: Episode IV - A New Hope (1977)\t0.41158018\n",
      "Star Wars: Episode IV - A New Hope (1977)\tStar Wars: Episode V - The Empire Strikes Back (1980)\t0.4095385\n",
      "Star Wars: Episode IV - A New Hope (1977)\tStar Wars: Episode VI - Return of the Jedi (1983)\t0.4064931\n",
      "Star Wars: Episode IV - A New Hope (1977)\tRaiders of the Lost Ark (Indiana Jones and the Raiders of the Lost Ark) (1981)\t0.404983\n",
      "Star Wars: Episode IV - A New Hope (1977)\tIndiana Jones and the Last Crusade (1989)\t0.402958\n",
      "Star Wars: Episode IV - A New Hope (1977)\tTerminator, The (1984)\t0.4017303\n",
      "Star Wars: Episode IV - A New Hope (1977)\tBack to the Future (1985)\t0.39857888\n",
      "Star Wars: Episode IV - A New Hope (1977)\tAliens (1986)\t0.39823833\n",
      "Star Wars: Episode IV - A New Hope (1977)\tIndiana Jones and the Temple of Doom (1984)\t0.39500803\n",
      "Star Wars: Episode IV - A New Hope (1977)\tGhostbusters (a.k.a. Ghost Busters) (1984)\t0.3946116\n",
      "Star Wars: Episode IV - A New Hope (1977)\tDie Hard (1988)\t0.39381742\n",
      "Schindler's List (1993)\tSchindler's List (1993)\t0.2871801\n",
      "Schindler's List (1993)\tSilence of the Lambs, The (1991)\t0.2797184\n",
      "Schindler's List (1993)\tShawshank Redemption, The (1994)\t0.27920637\n",
      "Schindler's List (1993)\tDead Poets Society (1989)\t0.27458423\n",
      "Schindler's List (1993)\tRain Man (1988)\t0.27448466\n",
      "Schindler's List (1993)\tGood Will Hunting (1997)\t0.27384278\n",
      "Schindler's List (1993)\tOne Flew Over the Cuckoo's Nest (1975)\t0.27215913\n",
      "Schindler's List (1993)\tUsual Suspects, The (1995)\t0.2719833\n",
      "Schindler's List (1993)\tAmadeus (1984)\t0.27184823\n",
      "Schindler's List (1993)\tGodfather, The (1972)\t0.27123195\n",
      "Schindler's List (1993)\tGandhi (1982)\t0.2710337\n",
      "Matrix, The (1999)\tMatrix, The (1999)\t0.54507405\n",
      "Matrix, The (1999)\tFifth Element, The (1997)\t0.5292609\n",
      "Matrix, The (1999)\tLord of the Rings: The Fellowship of the Ring, The (2001)\t0.5269794\n",
      "Matrix, The (1999)\tMinority Report (2002)\t0.5248153\n",
      "Matrix, The (1999)\tGattaca (1997)\t0.5248049\n",
      "Matrix, The (1999)\tLord of the Rings: The Two Towers, The (2002)\t0.524773\n",
      "Matrix, The (1999)\tGladiator (2000)\t0.523173\n",
      "Matrix, The (1999)\tLord of the Rings: The Return of the King, The (2003)\t0.522697\n",
      "Matrix, The (1999)\tX-Men (2000)\t0.5214389\n",
      "Matrix, The (1999)\tTruman Show, The (1998)\t0.5210384\n",
      "Matrix, The (1999)\tFight Club (1999)\t0.5178901\n",
      "Usual Suspects, The (1995)\tUsual Suspects, The (1995)\t0.35305825\n",
      "Usual Suspects, The (1995)\tPulp Fiction (1994)\t0.3467175\n",
      "Usual Suspects, The (1995)\tSilence of the Lambs, The (1991)\t0.34475854\n",
      "Usual Suspects, The (1995)\tReservoir Dogs (1992)\t0.3430197\n",
      "Usual Suspects, The (1995)\tSeven (a.k.a. Se7en) (1995)\t0.34121323\n",
      "Usual Suspects, The (1995)\tShawshank Redemption, The (1994)\t0.3408569\n",
      "Usual Suspects, The (1995)\tGoodfellas (1990)\t0.34073898\n",
      "Usual Suspects, The (1995)\tCasino (1995)\t0.340443\n",
      "Usual Suspects, The (1995)\tLéon: The Professional (a.k.a. The Professional) (Léon) (1994)\t0.3399602\n",
      "Usual Suspects, The (1995)\tDonnie Brasco (1997)\t0.33883953\n",
      "Usual Suspects, The (1995)\tFargo (1996)\t0.33799806\n",
      "Braveheart (1995)\tBraveheart (1995)\t0.2526829\n",
      "Braveheart (1995)\tJurassic Park (1993)\t0.24174504\n",
      "Braveheart (1995)\tFugitive, The (1993)\t0.24174199\n",
      "Braveheart (1995)\tForrest Gump (1994)\t0.2416902\n",
      "Braveheart (1995)\tTerminator 2: Judgment Day (1991)\t0.23952211\n",
      "Braveheart (1995)\tBatman (1989)\t0.23909402\n",
      "Braveheart (1995)\tDances with Wolves (1990)\t0.23769283\n",
      "Braveheart (1995)\tShawshank Redemption, The (1994)\t0.23697636\n",
      "Braveheart (1995)\tLast of the Mohicans, The (1992)\t0.23694299\n",
      "Braveheart (1995)\tSaving Private Ryan (1998)\t0.23659945\n",
      "Braveheart (1995)\tSilence of the Lambs, The (1991)\t0.23592168\n"
     ]
    },
    {
     "name": "stderr",
     "output_type": "stream",
     "text": [
      "\n"
     ]
    }
   ],
   "source": [
    "if __name__ == \"__main__\":\n",
    "    parser = argparse.ArgumentParser(description=\"Generates related movies from the MovieLens 20M \"\n",
    "                                     \"dataset (https://grouplens.org/datasets/movielens/20m/)\",\n",
    "                                     formatter_class=argparse.ArgumentDefaultsHelpFormatter)\n",
    "\n",
    "    parser.add_argument('--output', type=str, default='similar-movies.tsv',\n",
    "                        dest='outputfile', help='output file name')\n",
    "    parser.add_argument('--model', type=str, default='als',\n",
    "                        dest='model', help='model to calculate (als/bm25/tfidf/cosine)')\n",
    "    parser.add_argument('--variant', type=str, default='20m', dest='variant',\n",
    "                        help='Whether to use the 20m, 10m, 1m or 100k movielens dataset')\n",
    "    parser.add_argument('--min_rating', type=float, default=4.0, dest='min_rating',\n",
    "                        help='Minimum rating to assume that a rating is positive')\n",
    "    args, unknown = parser.parse_known_args()  #args = parser.parse_args()\n",
    "\n",
    "    logging.basicConfig(level=logging.DEBUG)\n",
    "\n",
    "    calculate_similar_movies(args.outputfile,\n",
    "                             model_name=args.model,\n",
    "                             min_rating=args.min_rating, variant=args.variant)"
   ]
  },
  {
   "cell_type": "markdown",
   "metadata": {},
   "source": [
    "B. Bayesian Personalized Ranking model implementation on MovieLens dataset using Implicit Library\n",
    "-----"
   ]
  },
  {
   "cell_type": "code",
   "execution_count": 15,
   "metadata": {},
   "outputs": [
    {
     "data": {
      "application/vnd.jupyter.widget-view+json": {
       "model_id": "06c9f4030bf64478afb6a259c6175fb2",
       "version_major": 2,
       "version_minor": 0
      },
      "text/plain": [
       "HBox(children=(IntProgress(value=0), HTML(value='')))"
      ]
     },
     "metadata": {},
     "output_type": "display_data"
    },
    {
     "name": "stderr",
     "output_type": "stream",
     "text": [
      "\r",
      "  0%|          | 0/131263 [00:00<?, ?it/s]"
     ]
    },
    {
     "name": "stdout",
     "output_type": "stream",
     "text": [
      "\n",
      "Shawshank Redemption, The (1994)\tShawshank Redemption, The (1994)\t2.6484053\n",
      "Shawshank Redemption, The (1994)\tSchindler's List (1993)\t2.071487\n",
      "Shawshank Redemption, The (1994)\tSilence of the Lambs, The (1991)\t1.9213673\n",
      "Shawshank Redemption, The (1994)\tBikes vs Cars (2015)\t1.7971182\n",
      "Shawshank Redemption, The (1994)\tUsual Suspects, The (1995)\t1.7845862\n",
      "Shawshank Redemption, The (1994)\tForrest Gump (1994)\t1.6885874\n",
      "Shawshank Redemption, The (1994)\tPulp Fiction (1994)\t1.6822878\n",
      "Shawshank Redemption, The (1994)\tSeven (a.k.a. Se7en) (1995)\t1.6141193\n",
      "Shawshank Redemption, The (1994)\tBraveheart (1995)\t1.564118\n",
      "Shawshank Redemption, The (1994)\tBoy Meets Girl (2015)\t1.5237815\n",
      "Shawshank Redemption, The (1994)\tPetting Zoo (2015)\t1.5064116\n",
      "Pulp Fiction (1994)\tPulp Fiction (1994)\t2.6284437\n",
      "Pulp Fiction (1994)\tSilence of the Lambs, The (1991)\t1.9648343\n",
      "Pulp Fiction (1994)\tReservoir Dogs (1992)\t1.9462489\n",
      "Pulp Fiction (1994)\tSeven (a.k.a. Se7en) (1995)\t1.9331075\n",
      "Pulp Fiction (1994)\tUsual Suspects, The (1995)\t1.8666302\n",
      "Pulp Fiction (1994)\tTaxi Driver (1976)\t1.8106126\n",
      "Pulp Fiction (1994)\tTrue Romance (1993)\t1.702777\n",
      "Pulp Fiction (1994)\tCondition Red (Beyond the Law) (1995)\t1.6792283\n",
      "Pulp Fiction (1994)\tOne Nine Nine Four (2009)\t1.6777467\n",
      "Pulp Fiction (1994)\tShawshank Redemption, The (1994)\t1.6696079\n",
      "Pulp Fiction (1994)\tNatural Born Killers (1994)\t1.6310982\n",
      "Silence of the Lambs, The (1991)\tSilence of the Lambs, The (1991)\t2.584625\n",
      "Silence of the Lambs, The (1991)\tSeven (a.k.a. Se7en) (1995)\t1.9759264\n",
      "Silence of the Lambs, The (1991)\tPulp Fiction (1994)\t1.9320788\n",
      "Silence of the Lambs, The (1991)\tShawshank Redemption, The (1994)\t1.8750958\n",
      "Silence of the Lambs, The (1991)\tSchindler's List (1993)\t1.7593721\n",
      "Silence of the Lambs, The (1991)\tUsual Suspects, The (1995)\t1.7051026\n",
      "Silence of the Lambs, The (1991)\tFugitive, The (1993)\t1.4930829\n",
      "Silence of the Lambs, The (1991)\tFargo (1996)\t1.3543912\n",
      "Silence of the Lambs, The (1991)\tTaxi Driver (1976)\t1.3405262\n",
      "Silence of the Lambs, The (1991)\tBraveheart (1995)\t1.3012117\n",
      "Silence of the Lambs, The (1991)\tBoy Meets Girl (2015)\t1.2903352\n",
      "Forrest Gump (1994)\tForrest Gump (1994)\t2.5083473\n",
      "Forrest Gump (1994)\tDances with Wolves (1990)\t1.6906382\n",
      "Forrest Gump (1994)\tBraveheart (1995)\t1.6804236\n",
      "Forrest Gump (1994)\tMrs. Doubtfire (1993)\t1.6314548\n",
      "Forrest Gump (1994)\tRusalochka (The Little Mermaid) (1976)\t1.6312827\n",
      "Forrest Gump (1994)\tShawshank Redemption, The (1994)\t1.599288\n",
      "Forrest Gump (1994)\tPetting Zoo (2015)\t1.5861423\n",
      "Forrest Gump (1994)\tThree Comrades (1938)\t1.5530065\n",
      "Forrest Gump (1994)\tDuelist (Hyeongsa) (2005)\t1.5483171\n",
      "Forrest Gump (1994)\tHome Alone (1990)\t1.4778016\n",
      "Forrest Gump (1994)\tLion King, The (1994)\t1.475192\n",
      "Star Wars: Episode IV - A New Hope (1977)\tStar Wars: Episode IV - A New Hope (1977)\t2.9210536\n",
      "Star Wars: Episode IV - A New Hope (1977)\tStar Wars: Episode VI - Return of the Jedi (1983)\t2.789997\n",
      "Star Wars: Episode IV - A New Hope (1977)\tStar Wars: Episode V - The Empire Strikes Back (1980)\t2.7367449\n",
      "Star Wars: Episode IV - A New Hope (1977)\tRaiders of the Lost Ark (Indiana Jones and the Raiders of the Lost Ark) (1981)\t2.0230758\n",
      "Star Wars: Episode IV - A New Hope (1977)\tIndiana Jones and the Last Crusade (1989)\t1.7298671\n",
      "Star Wars: Episode IV - A New Hope (1977)\tStar Trek: First Contact (1996)\t1.6505035\n",
      "Star Wars: Episode IV - A New Hope (1977)\tStar Wars: Episode I - The Phantom Menace (1999)\t1.5999001\n",
      "Star Wars: Episode IV - A New Hope (1977)\tStar Trek II: The Wrath of Khan (1982)\t1.3705909\n",
      "Star Wars: Episode IV - A New Hope (1977)\tE.T. the Extra-Terrestrial (1982)\t1.3402873\n",
      "Star Wars: Episode IV - A New Hope (1977)\tGodfather, The (1972)\t1.3103839\n",
      "Star Wars: Episode IV - A New Hope (1977)\tStar Wars: Episode II - Attack of the Clones (2002)\t1.2880796\n",
      "Schindler's List (1993)\tSchindler's List (1993)\t2.459291\n",
      "Schindler's List (1993)\tShawshank Redemption, The (1994)\t1.9235686\n",
      "Schindler's List (1993)\tSilence of the Lambs, The (1991)\t1.6740564\n",
      "Schindler's List (1993)\tBraveheart (1995)\t1.5904971\n",
      "Schindler's List (1993)\tBoy Meets Girl (2015)\t1.4328382\n",
      "Schindler's List (1993)\tForrest Gump (1994)\t1.4179481\n",
      "Schindler's List (1993)\tDances with Wolves (1990)\t1.4119141\n",
      "Schindler's List (1993)\tMan in the Middle (1963)\t1.4078311\n",
      "Schindler's List (1993)\tPetting Zoo (2015)\t1.4030291\n",
      "Schindler's List (1993)\tApollo 13 (1995)\t1.3524613\n",
      "Schindler's List (1993)\tBikes vs Cars (2015)\t1.3465286\n",
      "Matrix, The (1999)\tMatrix, The (1999)\t2.5274682\n",
      "Matrix, The (1999)\tFifth Element, The (1997)\t1.776431\n",
      "Matrix, The (1999)\tFight Club (1999)\t1.6859183\n",
      "Matrix, The (1999)\tLove and a Bullet (2002)\t1.6323626\n",
      "Matrix, The (1999)\tMile... Mile & a Half (2013)\t1.621568\n",
      "Matrix, The (1999)\tMr. Robinson Crusoe (1932)\t1.5777773\n",
      "Matrix, The (1999)\tSixth Sense, The (1999)\t1.5756215\n",
      "Matrix, The (1999)\tDon't Blink (2014)\t1.5707526\n",
      "Matrix, The (1999)\tAmsterdamned (1988)\t1.5492411\n",
      "Matrix, The (1999)\tSin Retorno (2010)\t1.5055387\n",
      "Matrix, The (1999)\tBikes vs Cars (2015)\t1.4972045\n",
      "Usual Suspects, The (1995)\tUsual Suspects, The (1995)\t2.5596607\n",
      "Usual Suspects, The (1995)\tSeven (a.k.a. Se7en) (1995)\t1.8660492\n",
      "Usual Suspects, The (1995)\tPulp Fiction (1994)\t1.8177828\n",
      "Usual Suspects, The (1995)\tShawshank Redemption, The (1994)\t1.7247869\n",
      "Usual Suspects, The (1995)\tSilence of the Lambs, The (1991)\t1.6886331\n",
      "Usual Suspects, The (1995)\tLéon: The Professional (a.k.a. The Professional) (Léon) (1994)\t1.610774\n",
      "Usual Suspects, The (1995)\tReservoir Dogs (1992)\t1.5938177\n",
      "Usual Suspects, The (1995)\tL.A. Confidential (1997)\t1.4743855\n",
      "Usual Suspects, The (1995)\tShallow Grave (1994)\t1.413586\n",
      "Usual Suspects, The (1995)\tFargo (1996)\t1.3719021\n",
      "Usual Suspects, The (1995)\tTrue Romance (1993)\t1.3624214\n",
      "Braveheart (1995)\tBraveheart (1995)\t2.425692\n",
      "Braveheart (1995)\tDances with Wolves (1990)\t1.8341995\n",
      "Braveheart (1995)\tLegends of the Fall (1994)\t1.6337457\n",
      "Braveheart (1995)\tForrest Gump (1994)\t1.6250503\n",
      "Braveheart (1995)\tRob Roy (1995)\t1.5693321\n",
      "Braveheart (1995)\tSchindler's List (1993)\t1.5687674\n",
      "Braveheart (1995)\tTombstone (1993)\t1.5503955\n",
      "Braveheart (1995)\tLast of the Mohicans, The (1992)\t1.5283198\n",
      "Braveheart (1995)\tSaving Private Ryan (1998)\t1.4741495\n",
      "Braveheart (1995)\tMan in the Middle (1963)\t1.469314\n",
      "Braveheart (1995)\tCrimson Tide (1995)\t1.4345926\n"
     ]
    },
    {
     "name": "stderr",
     "output_type": "stream",
     "text": [
      "\n"
     ]
    }
   ],
   "source": [
    "if __name__ == \"__main__\":\n",
    "    parser = argparse.ArgumentParser(description=\"Generates related movies from the MovieLens 20M \"\n",
    "                                     \"dataset (https://grouplens.org/datasets/movielens/20m/)\",\n",
    "                                     formatter_class=argparse.ArgumentDefaultsHelpFormatter)\n",
    "\n",
    "    parser.add_argument('--output', type=str, default='similar-movies.tsv',\n",
    "                        dest='outputfile', help='output file name')\n",
    "    parser.add_argument('--model', type=str, default='bpr',\n",
    "                        dest='model', help='model to calculate (als/bm25/tfidf/cosine)')\n",
    "    parser.add_argument('--variant', type=str, default='20m', dest='variant',\n",
    "                        help='Whether to use the 20m, 10m, 1m or 100k movielens dataset')\n",
    "    parser.add_argument('--min_rating', type=float, default=4.0, dest='min_rating',\n",
    "                        help='Minimum rating to assume that a rating is positive')\n",
    "    args, unknown = parser.parse_known_args()  #args = parser.parse_args()\n",
    "\n",
    "    logging.basicConfig(level=logging.DEBUG)\n",
    "\n",
    "    calculate_similar_movies(args.outputfile,\n",
    "                             model_name=args.model,\n",
    "                             min_rating=args.min_rating, variant=args.variant)"
   ]
  },
  {
   "cell_type": "markdown",
   "metadata": {},
   "source": [
    "C. Logistic Matrix Factorization model implementation on MovieLens dataset using Implicit Library\n",
    "-------"
   ]
  },
  {
   "cell_type": "code",
   "execution_count": 16,
   "metadata": {},
   "outputs": [
    {
     "data": {
      "application/vnd.jupyter.widget-view+json": {
       "model_id": "ba001460a89c4cf2b2f52e3c0836c4fd",
       "version_major": 2,
       "version_minor": 0
      },
      "text/plain": [
       "HBox(children=(IntProgress(value=0, max=30), HTML(value='')))"
      ]
     },
     "metadata": {},
     "output_type": "display_data"
    },
    {
     "name": "stderr",
     "output_type": "stream",
     "text": [
      "\r",
      "  0%|          | 0/131263 [00:00<?, ?it/s]"
     ]
    },
    {
     "name": "stdout",
     "output_type": "stream",
     "text": [
      "\n",
      "Shawshank Redemption, The (1994)\tShawshank Redemption, The (1994)\t6.8404126\n",
      "Shawshank Redemption, The (1994)\tSchindler's List (1993)\t6.5997467\n",
      "Shawshank Redemption, The (1994)\tSilence of the Lambs, The (1991)\t6.4703774\n",
      "Shawshank Redemption, The (1994)\tForrest Gump (1994)\t6.469405\n",
      "Shawshank Redemption, The (1994)\tPulp Fiction (1994)\t6.1917257\n",
      "Shawshank Redemption, The (1994)\tGet Shorty (1995)\t6.0944605\n",
      "Shawshank Redemption, The (1994)\tMisérables, Les (1995)\t6.0934052\n",
      "Shawshank Redemption, The (1994)\tSeven (a.k.a. Se7en) (1995)\t6.092912\n",
      "Shawshank Redemption, The (1994)\tApollo 13 (1995)\t6.0081043\n",
      "Shawshank Redemption, The (1994)\tUsual Suspects, The (1995)\t5.969749\n",
      "Shawshank Redemption, The (1994)\tDances with Wolves (1990)\t5.957731\n",
      "Pulp Fiction (1994)\tPulp Fiction (1994)\t6.8870683\n",
      "Pulp Fiction (1994)\tSeven (a.k.a. Se7en) (1995)\t6.4878306\n",
      "Pulp Fiction (1994)\tSilence of the Lambs, The (1991)\t6.3163342\n",
      "Pulp Fiction (1994)\tShawshank Redemption, The (1994)\t6.233958\n",
      "Pulp Fiction (1994)\tSchindler's List (1993)\t6.129901\n",
      "Pulp Fiction (1994)\tGet Shorty (1995)\t6.089466\n",
      "Pulp Fiction (1994)\tForrest Gump (1994)\t6.0517974\n",
      "Pulp Fiction (1994)\tLéon: The Professional (a.k.a. The Professional) (Léon) (1994)\t6.012948\n",
      "Pulp Fiction (1994)\tReservoir Dogs (1992)\t6.0126176\n",
      "Pulp Fiction (1994)\tTwelve Monkeys (a.k.a. 12 Monkeys) (1995)\t5.9879756\n",
      "Pulp Fiction (1994)\tUsual Suspects, The (1995)\t5.8959494\n",
      "Silence of the Lambs, The (1991)\tSilence of the Lambs, The (1991)\t6.9788704\n",
      "Silence of the Lambs, The (1991)\tSchindler's List (1993)\t6.682348\n",
      "Silence of the Lambs, The (1991)\tShawshank Redemption, The (1994)\t6.601347\n",
      "Silence of the Lambs, The (1991)\tForrest Gump (1994)\t6.5532856\n",
      "Silence of the Lambs, The (1991)\tSeven (a.k.a. Se7en) (1995)\t6.4257603\n",
      "Silence of the Lambs, The (1991)\tGet Shorty (1995)\t6.4191227\n",
      "Silence of the Lambs, The (1991)\tPulp Fiction (1994)\t6.400529\n",
      "Silence of the Lambs, The (1991)\tDances with Wolves (1990)\t6.267101\n",
      "Silence of the Lambs, The (1991)\tApollo 13 (1995)\t6.2108846\n",
      "Silence of the Lambs, The (1991)\tSpeed (1994)\t6.189642\n",
      "Silence of the Lambs, The (1991)\tAladdin (1992)\t6.150336\n",
      "Forrest Gump (1994)\tForrest Gump (1994)\t6.9418364\n",
      "Forrest Gump (1994)\tSchindler's List (1993)\t6.6750984\n",
      "Forrest Gump (1994)\tShawshank Redemption, The (1994)\t6.5653286\n",
      "Forrest Gump (1994)\tSilence of the Lambs, The (1991)\t6.518509\n",
      "Forrest Gump (1994)\tAladdin (1992)\t6.41612\n",
      "Forrest Gump (1994)\tSpeed (1994)\t6.415408\n",
      "Forrest Gump (1994)\tAmerican President, The (1995)\t6.3185735\n",
      "Forrest Gump (1994)\tGet Shorty (1995)\t6.277339\n",
      "Forrest Gump (1994)\tApollo 13 (1995)\t6.2617993\n",
      "Forrest Gump (1994)\tDances with Wolves (1990)\t6.2608633\n",
      "Forrest Gump (1994)\tMisérables, Les (1995)\t6.186604\n",
      "Star Wars: Episode IV - A New Hope (1977)\tStar Wars: Episode IV - A New Hope (1977)\t7.0197906\n",
      "Star Wars: Episode IV - A New Hope (1977)\tStar Wars: Episode VI - Return of the Jedi (1983)\t6.820141\n",
      "Star Wars: Episode IV - A New Hope (1977)\tStar Wars: Episode V - The Empire Strikes Back (1980)\t6.604024\n",
      "Star Wars: Episode IV - A New Hope (1977)\tRaiders of the Lost Ark (Indiana Jones and the Raiders of the Lost Ark) (1981)\t6.331394\n",
      "Star Wars: Episode IV - A New Hope (1977)\tGodfather, The (1972)\t5.9264803\n",
      "Star Wars: Episode IV - A New Hope (1977)\tWilly Wonka & the Chocolate Factory (1971)\t5.82265\n",
      "Star Wars: Episode IV - A New Hope (1977)\tDie Hard (1988)\t5.805392\n",
      "Star Wars: Episode IV - A New Hope (1977)\tTwelve Monkeys (a.k.a. 12 Monkeys) (1995)\t5.769726\n",
      "Star Wars: Episode IV - A New Hope (1977)\tMatrix, The (1999)\t5.7144084\n",
      "Star Wars: Episode IV - A New Hope (1977)\tMichael Collins (1996)\t5.709889\n",
      "Star Wars: Episode IV - A New Hope (1977)\tMonty Python and the Holy Grail (1975)\t5.688674\n",
      "Schindler's List (1993)\tSchindler's List (1993)\t6.860061\n",
      "Schindler's List (1993)\tShawshank Redemption, The (1994)\t6.618705\n",
      "Schindler's List (1993)\tForrest Gump (1994)\t6.596466\n",
      "Schindler's List (1993)\tSilence of the Lambs, The (1991)\t6.568586\n",
      "Schindler's List (1993)\tMisérables, Les (1995)\t6.3705597\n",
      "Schindler's List (1993)\tGet Shorty (1995)\t6.224194\n",
      "Schindler's List (1993)\tDances with Wolves (1990)\t6.1565566\n",
      "Schindler's List (1993)\tPulp Fiction (1994)\t6.105863\n",
      "Schindler's List (1993)\tAmerican President, The (1995)\t6.069172\n",
      "Schindler's List (1993)\tSpeed (1994)\t6.0411415\n",
      "Schindler's List (1993)\tBefore Sunrise (1995)\t6.0376043\n",
      "Matrix, The (1999)\tMatrix, The (1999)\t6.758002\n",
      "Matrix, The (1999)\tStar Wars: Episode V - The Empire Strikes Back (1980)\t6.200865\n",
      "Matrix, The (1999)\tGladiator (2000)\t6.18867\n",
      "Matrix, The (1999)\tRaiders of the Lost Ark (Indiana Jones and the Raiders of the Lost Ark) (1981)\t6.0323715\n",
      "Matrix, The (1999)\tSaving Private Ryan (1998)\t6.0161805\n",
      "Matrix, The (1999)\tSixth Sense, The (1999)\t5.9201193\n",
      "Matrix, The (1999)\tX-Men (2000)\t5.901855\n",
      "Matrix, The (1999)\tLord of the Rings: The Fellowship of the Ring, The (2001)\t5.8310018\n",
      "Matrix, The (1999)\tRun Lola Run (Lola rennt) (1998)\t5.8265004\n",
      "Matrix, The (1999)\tLord of the Rings, The (1978)\t5.747602\n",
      "Matrix, The (1999)\tThirteenth Floor, The (1999)\t5.741526\n",
      "Usual Suspects, The (1995)\tUsual Suspects, The (1995)\t7.109902\n",
      "Usual Suspects, The (1995)\tShawshank Redemption, The (1994)\t6.2049365\n",
      "Usual Suspects, The (1995)\tPulp Fiction (1994)\t6.086714\n",
      "Usual Suspects, The (1995)\tSeven (a.k.a. Se7en) (1995)\t5.9587703\n",
      "Usual Suspects, The (1995)\tSchindler's List (1993)\t5.9092207\n",
      "Usual Suspects, The (1995)\tGet Shorty (1995)\t5.810707\n",
      "Usual Suspects, The (1995)\tLéon: The Professional (a.k.a. The Professional) (Léon) (1994)\t5.8063517\n",
      "Usual Suspects, The (1995)\tReservoir Dogs (1992)\t5.7850013\n",
      "Usual Suspects, The (1995)\tSilence of the Lambs, The (1991)\t5.6760178\n",
      "Usual Suspects, The (1995)\tTrue Romance (1993)\t5.659435\n",
      "Usual Suspects, The (1995)\tRounders (1998)\t5.6331663\n",
      "Braveheart (1995)\tBraveheart (1995)\t7.8881407\n",
      "Braveheart (1995)\tDances with Wolves (1990)\t6.5348954\n",
      "Braveheart (1995)\tRob Roy (1995)\t6.10257\n",
      "Braveheart (1995)\tFugitive, The (1993)\t6.0548196\n",
      "Braveheart (1995)\tSilence of the Lambs, The (1991)\t6.0194836\n",
      "Braveheart (1995)\tWyatt Earp (1994)\t5.969211\n",
      "Braveheart (1995)\tLegends of the Fall (1994)\t5.9469395\n",
      "Braveheart (1995)\tApollo 13 (1995)\t5.9365063\n",
      "Braveheart (1995)\tTombstone (1993)\t5.9253917\n",
      "Braveheart (1995)\tIn the Line of Fire (1993)\t5.903906\n",
      "Braveheart (1995)\tForrest Gump (1994)\t5.883564\n"
     ]
    },
    {
     "name": "stderr",
     "output_type": "stream",
     "text": [
      "\n"
     ]
    }
   ],
   "source": [
    "if __name__ == \"__main__\":\n",
    "    parser = argparse.ArgumentParser(description=\"Generates related movies from the MovieLens 20M \"\n",
    "                                     \"dataset (https://grouplens.org/datasets/movielens/20m/)\",\n",
    "                                     formatter_class=argparse.ArgumentDefaultsHelpFormatter)\n",
    "\n",
    "    parser.add_argument('--output', type=str, default='similar-movies.tsv',\n",
    "                        dest='outputfile', help='output file name')\n",
    "    parser.add_argument('--model', type=str, default='lmf',\n",
    "                        dest='model', help='model to calculate (als/bm25/tfidf/cosine)')\n",
    "    parser.add_argument('--variant', type=str, default='20m', dest='variant',\n",
    "                        help='Whether to use the 20m, 10m, 1m or 100k movielens dataset')\n",
    "    parser.add_argument('--min_rating', type=float, default=4.0, dest='min_rating',\n",
    "                        help='Minimum rating to assume that a rating is positive')\n",
    "    args, unknown = parser.parse_known_args()  #args = parser.parse_args()\n",
    "\n",
    "    logging.basicConfig(level=logging.DEBUG)\n",
    "\n",
    "    calculate_similar_movies(args.outputfile,\n",
    "                             model_name=args.model,\n",
    "                             min_rating=args.min_rating, variant=args.variant)"
   ]
  },
  {
   "cell_type": "markdown",
   "metadata": {},
   "source": [
    "Conclusion\n",
    "======\n",
    "\n",
    "The Implicit Library is good for compareing various recommendation algorithms. Since the cutting-edge recommendation for implicit feedback datasets are implemented in the library, I could simply use and test their results. Even though the calculation time of ALS training function was slower than the one of ALS implementation without using the library function in my environment, the recommendation result was same which was very impressive. The library showed a benchmarks camparing the ALS fitting time versus Spark and QMF [7], but I counldn't cover this experience in my spotlight. Recommendation algorithms using implicit feedback data is used in many research fields. With no doubt, I would definitly use this library in the future for my research.\n",
    "\n",
    "[1] [Implicit Libaray](https://implicit.readthedocs.io/en/latest/).  \n",
    "[2] [Collaborative Filtering for Implicit Feedback Datasets](http://yifanhu.net/PUB/cf.pdf).    \n",
    "[3] [Applications of the Conjugate Gradient Method for Implicit Feedback Collaborative Filtering](https://www.semanticscholar.org/paper/Applications-of-the-conjugate-gradient-method-for-Tak%C3%A1cs-Pil%C3%A1szy/bfdf7af6cf7fd7bb5e6b6db5bbd91be11597eaf0).  \n",
    "[4] [BPR: Bayesian Personalized Ranking from Implicit Feedback](https://arxiv.org/pdf/1205.2618.pdf).  \n",
    "[5] [Logistic matrix factorization for implicit feedback data](https://web.stanford.edu/~rezab/nips2014workshop/submits/logmat.pdf)  \n",
    "[6] [MovieLens](https://grouplens.org/datasets/movielens/)  \n",
    "[7] [Spark and QMF](https://github.com/benfred/implicit/tree/master/benchmarks)\n",
    "\n",
    "\n"
   ]
  },
  {
   "cell_type": "code",
   "execution_count": null,
   "metadata": {},
   "outputs": [],
   "source": []
  }
 ],
 "metadata": {
  "kernelspec": {
   "display_name": "Python 3",
   "language": "python",
   "name": "python3"
  },
  "language_info": {
   "codemirror_mode": {
    "name": "ipython",
    "version": 3
   },
   "file_extension": ".py",
   "mimetype": "text/x-python",
   "name": "python",
   "nbconvert_exporter": "python",
   "pygments_lexer": "ipython3",
   "version": "3.7.3"
  }
 },
 "nbformat": 4,
 "nbformat_minor": 2
}
